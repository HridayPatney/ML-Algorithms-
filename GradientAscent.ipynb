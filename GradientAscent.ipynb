{
  "nbformat": 4,
  "nbformat_minor": 0,
  "metadata": {
    "colab": {
      "provenance": []
    },
    "kernelspec": {
      "name": "python3",
      "display_name": "Python 3"
    },
    "language_info": {
      "name": "python"
    }
  },
  "cells": [
    {
      "cell_type": "code",
      "execution_count": null,
      "metadata": {
        "id": "YNlBLto7JcKv"
      },
      "outputs": [],
      "source": [
        "import numpy as np\n",
        "import pandas as pd"
      ]
    },
    {
      "cell_type": "code",
      "source": [
        "df=pd.read_csv('Social_Network_Ads.csv')\n",
        "df.head()\n",
        "import warnings\n",
        "\n",
        "#suppress warnings\n",
        "warnings.filterwarnings('ignore')"
      ],
      "metadata": {
        "id": "3VjFajzzLP3S"
      },
      "execution_count": null,
      "outputs": []
    },
    {
      "cell_type": "code",
      "source": [
        "from sklearn.preprocessing  import LabelEncoder\n",
        "LE=LabelEncoder()\n",
        "df['Gender']=LE.fit_transform(df['Gender'])\n",
        "X=df.drop(['Purchased','User ID'],axis=1)"
      ],
      "metadata": {
        "id": "GMOP6ubTLW9N"
      },
      "execution_count": null,
      "outputs": []
    },
    {
      "cell_type": "code",
      "source": [
        "y=df['Purchased']"
      ],
      "metadata": {
        "id": "BXdZfC1hLz9i"
      },
      "execution_count": null,
      "outputs": []
    },
    {
      "cell_type": "code",
      "source": [
        "class customclassification:\n",
        "    def __init__(self, learning_rate=0.01, max_iterations=500):\n",
        "        self.learning_rate  = learning_rate\n",
        "        self.max_iterations = max_iterations\n",
        "        self.likelihoods    = []\n",
        "        self.eps = 1e-7\n",
        "\n",
        "    def sigmoid(self, inX):\n",
        "        sig = (1/(1+np.exp(-inX))).astype(np.int64)\n",
        "        return sig\n",
        "\n",
        "    def log_likelihood(self, y_true, y_pred):\n",
        "        y_pred = np.maximum(np.full(y_pred.shape, self.eps), np.minimum(np.full(y_pred.shape, 1-self.eps), y_pred))\n",
        "        likelihood = (y_true*np.log(y_pred)+(1-y_true)*np.log(1-y_pred))\n",
        "        return np.mean(likelihood)\n",
        "\n",
        "    def fit(self, X, y):\n",
        "        m = X.shape[0]\n",
        "        n = X.shape[1]\n",
        "        self.weights = np.zeros(n)\n",
        "\n",
        "        for i in range(self.max_iterations):\n",
        "            z  = np.dot(X,self.weights)\n",
        "            y_pred = self.sigmoid(z)\n",
        "            gradient = np.mean((y-y_pred)*X.T, axis=1)\n",
        "            self.weights +=  self.learning_rate*gradient\n",
        "            likelihood = self.log_likelihood(y,y_pred)\n",
        "            self.likelihoods.append(likelihood)\n",
        "\n",
        "    def predict_prob(self,X):\n",
        "        z = np.dot(X,self.weights)\n",
        "        probabilities = self.sigmoid(z)\n",
        "        return probabilities\n",
        "\n",
        "    def predict(self, X, threshold):\n",
        "        predictions = np.array(list(map(lambda x: 1 if x>threshold else 0, self.predict_prob(X))))\n",
        "        return predictions"
      ],
      "metadata": {
        "id": "w1xGsAQPMQen"
      },
      "execution_count": null,
      "outputs": []
    },
    {
      "cell_type": "code",
      "source": [
        "from sklearn.model_selection import train_test_split\n",
        "X_train,X_test,y_train,y_test=train_test_split(X,y,test_size=0.2,random_state=0)\n",
        "LogRegres= customclassification()\n",
        "LogRegres.fit(X_train,y_train)\n",
        "y_hat=LogRegres.predict(X_test,0.5)\n",
        "y_cap = y_hat - y_test\n",
        "count = np.count_nonzero(y_cap==0)\n",
        "accuracy = (count/len(y_hat))*100\n",
        "accuracy\n"
      ],
      "metadata": {
        "colab": {
          "base_uri": "https://localhost:8080/"
        },
        "id": "W_QlqSqPMhuA",
        "outputId": "618109c0-108a-4398-e2dd-72e0e12cb68f"
      },
      "execution_count": null,
      "outputs": [
        {
          "output_type": "execute_result",
          "data": {
            "text/plain": [
              "27.500000000000004"
            ]
          },
          "metadata": {},
          "execution_count": 14
        }
      ]
    },
    {
      "cell_type": "code",
      "source": [],
      "metadata": {
        "id": "WVzOWOeaMoDp"
      },
      "execution_count": null,
      "outputs": []
    }
  ]
}
