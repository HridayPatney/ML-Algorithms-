{
  "nbformat": 4,
  "nbformat_minor": 0,
  "metadata": {
    "colab": {
      "provenance": []
    },
    "kernelspec": {
      "name": "python3",
      "display_name": "Python 3"
    },
    "language_info": {
      "name": "python"
    }
  },
  "cells": [
    {
      "cell_type": "code",
      "execution_count": null,
      "metadata": {
        "id": "dtip5M9ZQfaH"
      },
      "outputs": [],
      "source": [
        "import numpy as np\n",
        "class SGD:\n",
        "  def __init__(self,lr=0.01,epochs=1000,batch_size=32,tol=1e-3):\n",
        "    self.learning_rate=lr\n",
        "    self.epochs=epochs\n",
        "    self.batch_size=batch_size\n",
        "    self.tolerance=tol\n",
        "    self.weights=None\n",
        "    self.bias=None\n",
        "  def predict(self,X):\n",
        "      return np.dot(X,self.weights)+self.bias\n",
        "  def mean_squared_error(self,y_true,y_pred):\n",
        "      return np.mean((y_true-y_pred)**2)\n",
        "  def gradient(self,X_batch,y_batch):\n",
        "      y_pred=self.predict(X_batch)\n",
        "      error=y_pred-y_batch\n",
        "      gradient_weights=np.dot(X_batch.T,error)/X_batch.shape[0]\n",
        "      gradient_bias=np.mean(error)\n",
        "      return gradient_weights,gradient_bias\n",
        "  def fit(self,X,y):\n",
        "      n_samples,n_features=X.shape\n",
        "      self.weights=np.random.randn(n_features)\n",
        "      self.bias=np.random.randn()\n",
        "      for epoch in range(self.epochs):\n",
        "        indices=np.random.permutation(n_samples)\n",
        "        X_shuffled=X[indices]\n",
        "        y_shuffled=y[indices]\n",
        "        for i in range(0,self.batch_size):\n",
        "          X_batch = X_shuffled[i:i+self.batch_size]\n",
        "          y_batch = y_shuffled[i:i+self.batch_size]\n",
        "          gradient_weights, gradient_bias = self.gradient(X_batch, y_batch)\n",
        "          self.weights -= self.learning_rate * gradient_weights\n",
        "          self.bias -= self.learning_rate * gradient_bias\n",
        "        if np.linalg.norm(gradient_weights) < self.tolerance:\n",
        "                print(\"Convergence reached.\")\n",
        "                break\n",
        "      return self.weights, self.bias\n"
      ]
    },
    {
      "cell_type": "code",
      "source": [
        "X = np.random.randn(100, 5).astype(np.float32)\n",
        "y = np.dot(X, np.array([1, 2, 3, 4, 5], dtype=np.float32)) + np.random.randn(100).astype(np.float32) * 0.1\n",
        "model = SGD(lr=0.005, epochs=1000, batch_size=32, tol=1e-3)\n",
        "w, b = model.fit(X, y)\n",
        "print(\"Weights:\", w)\n",
        "print(\"Bias:\", b)"
      ],
      "metadata": {
        "colab": {
          "base_uri": "https://localhost:8080/"
        },
        "id": "i6orTjPe1x-t",
        "outputId": "d214e21a-17c9-4e09-f0b3-4add7305b01f"
      },
      "execution_count": null,
      "outputs": [
        {
          "output_type": "stream",
          "name": "stdout",
          "text": [
            "Weights: [1.0191423  2.00068062 3.01410926 3.99179997 4.99320032]\n",
            "Bias: -0.011062800808577411\n"
          ]
        }
      ]
    },
    {
      "cell_type": "code",
      "source": [],
      "metadata": {
        "id": "JmB7S1WT19Mq"
      },
      "execution_count": null,
      "outputs": []
    }
  ]
}